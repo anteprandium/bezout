{
 "cells": [
  {
   "cell_type": "code",
   "execution_count": 705,
   "metadata": {
    "collapsed": false
   },
   "outputs": [],
   "source": [
    "reset()"
   ]
  },
  {
   "cell_type": "code",
   "execution_count": 706,
   "metadata": {
    "collapsed": false
   },
   "outputs": [],
   "source": [
    "S.<X,Y,Z> = PolynomialRing(QQ,\"X,Y,Z\")"
   ]
  },
  {
   "cell_type": "code",
   "execution_count": 707,
   "metadata": {
    "collapsed": false
   },
   "outputs": [],
   "source": [
    "%attach bezout.py\n",
    "# load code"
   ]
  },
  {
   "cell_type": "code",
   "execution_count": 708,
   "metadata": {
    "collapsed": true
   },
   "outputs": [],
   "source": [
    "# this function checks the results of Bezout\n",
    "def check_bezout(h,g, results=None):\n",
    "    # compute Bezout if not previously computed\n",
    "    if results:\n",
    "        K, e, Points = results\n",
    "    else: \n",
    "        K, e, Points = Bezout(h,g)\n",
    "        print Points, e\n",
    "    d = h.degree()*g.degree()\n",
    "    # checks:\n",
    "    # 1: the polynomials can be embedded into the appropriate extension\n",
    "    # 2: the values of the polynomials over the intersection points is 0\n",
    "    # 3: the computed multiplicities of the points add up to d, the product\n",
    "    #    of the degrees\n",
    "    valuesF = [h.change_ring(e)(P[0], P[1], P[2]) for (P,v) in Points]\n",
    "    valuesG = [g.change_ring(e)(P[0], P[1], P[2]) for (P,v) in Points]\n",
    "    return d == sum([v for (P,v) in Points])  and  not any(valuesF) and not any(valuesG)\n",
    "\n"
   ]
  },
  {
   "cell_type": "code",
   "execution_count": 709,
   "metadata": {
    "collapsed": false
   },
   "outputs": [],
   "source": [
    "F = (X^2+Y^2)*Z+X^3+Y^3\n",
    "G = X^3+Y^3-2*X*Y*Z"
   ]
  },
  {
   "cell_type": "code",
   "execution_count": 710,
   "metadata": {
    "collapsed": false
   },
   "outputs": [],
   "source": [
    "K, e, Points = Bezout(F,G)"
   ]
  },
  {
   "cell_type": "code",
   "execution_count": 711,
   "metadata": {
    "collapsed": false
   },
   "outputs": [
    {
     "data": {
      "text/plain": [
       "True"
      ]
     },
     "execution_count": 711,
     "metadata": {},
     "output_type": "execute_result"
    }
   ],
   "source": [
    "check_bezout(F,G, [K,e,Points])"
   ]
  },
  {
   "cell_type": "code",
   "execution_count": 712,
   "metadata": {
    "collapsed": false
   },
   "outputs": [
    {
     "data": {
      "text/plain": [
       "(Number Field in alpha with defining polynomial w^2 - w + 1, Ring morphism:\n",
       "   From: Rational Field\n",
       "   To:   Number Field in alpha with defining polynomial w^2 - w + 1\n",
       "   Defn: 1 |--> 1, [((-1 : 1 : 0), 3),\n",
       "  ((alpha : 1 : 0), 1),\n",
       "  ((-alpha + 1 : 1 : 0), 1),\n",
       "  ((0 : 0 : 1), 4)])"
      ]
     },
     "execution_count": 712,
     "metadata": {},
     "output_type": "execute_result"
    }
   ],
   "source": [
    "K, e, points = Bezout(F,G)\n",
    "K, e, points "
   ]
  },
  {
   "cell_type": "code",
   "execution_count": 713,
   "metadata": {
    "collapsed": false
   },
   "outputs": [
    {
     "data": {
      "text/plain": [
       "True"
      ]
     },
     "execution_count": 713,
     "metadata": {},
     "output_type": "execute_result"
    }
   ],
   "source": [
    "check_bezout(F,G, [K, e, Points])"
   ]
  },
  {
   "cell_type": "code",
   "execution_count": 714,
   "metadata": {
    "collapsed": false,
    "scrolled": true
   },
   "outputs": [
    {
     "data": {
      "text/plain": [
       "(Number Field in alpha with defining polynomial w^2 - 2, Ring morphism:\n",
       "   From: Rational Field\n",
       "   To:   Number Field in alpha with defining polynomial w^2 - 2\n",
       "   Defn: 1 |--> 1, [((1 : 0 : 0), 9),\n",
       "  ((-1/4*alpha - 1/4 : -1/2*alpha - 1/2 : 1), 1),\n",
       "  ((1/4*alpha - 1/4 : 1/2*alpha - 1/2 : 1), 1),\n",
       "  ((0 : 0 : 1), 9)])"
      ]
     },
     "execution_count": 714,
     "metadata": {},
     "output_type": "execute_result"
    }
   ],
   "source": [
    "F = Y^5-X*(Y^2-X*Z)^2\n",
    "G = Y^4+Y^3*Z-X^2*Z^2\n",
    "K, e,  L = Bezout(F,G)\n",
    "K, e, L"
   ]
  },
  {
   "cell_type": "code",
   "execution_count": 715,
   "metadata": {
    "collapsed": false
   },
   "outputs": [
    {
     "name": "stdout",
     "output_type": "stream",
     "text": [
      "[((1 : 0 : 0), 9), ((-1/4*alpha - 1/4 : -1/2*alpha - 1/2 : 1), 1), ((1/4*alpha - 1/4 : 1/2*alpha - 1/2 : 1), 1), ((0 : 0 : 1), 9)] Ring morphism:\n",
      "  From: Rational Field\n",
      "  To:   Number Field in alpha with defining polynomial w^2 - 2\n",
      "  Defn: 1 |--> 1\n"
     ]
    },
    {
     "data": {
      "text/plain": [
       "True"
      ]
     },
     "execution_count": 715,
     "metadata": {},
     "output_type": "execute_result"
    }
   ],
   "source": [
    "check_bezout(F,G) # this recomputes Bezout."
   ]
  },
  {
   "cell_type": "code",
   "execution_count": null,
   "metadata": {
    "collapsed": true
   },
   "outputs": [],
   "source": [
    "\n"
   ]
  },
  {
   "cell_type": "code",
   "execution_count": null,
   "metadata": {
    "collapsed": false
   },
   "outputs": [],
   "source": []
  },
  {
   "cell_type": "code",
   "execution_count": 716,
   "metadata": {
    "collapsed": false,
    "scrolled": false
   },
   "outputs": [],
   "source": [
    "h1 = (X^2+Y^2)^2+3*X^2*Y*Z-Y^3*Z\n",
    "h2 = (X^2+Y^2)^3-4*X^2*Y^2*Z^2\n",
    "K, e, Points = Bezout(h1,h2)"
   ]
  },
  {
   "cell_type": "code",
   "execution_count": 717,
   "metadata": {
    "collapsed": false
   },
   "outputs": [
    {
     "data": {
      "text/plain": [
       "Number Field in alpha with defining polynomial w^8 - w^6 + w^4 - w^2 + 1"
      ]
     },
     "execution_count": 717,
     "metadata": {},
     "output_type": "execute_result"
    }
   ],
   "source": [
    "K"
   ]
  },
  {
   "cell_type": "code",
   "execution_count": 718,
   "metadata": {
    "collapsed": false
   },
   "outputs": [
    {
     "data": {
      "text/plain": [
       "Ring morphism:\n",
       "  From: Rational Field\n",
       "  To:   Number Field in alpha with defining polynomial w^8 - w^6 + w^4 - w^2 + 1\n",
       "  Defn: 1 |--> 1"
      ]
     },
     "execution_count": 718,
     "metadata": {},
     "output_type": "execute_result"
    }
   ],
   "source": [
    "e"
   ]
  },
  {
   "cell_type": "code",
   "execution_count": 719,
   "metadata": {
    "collapsed": false
   },
   "outputs": [
    {
     "data": {
      "text/plain": [
       "[((-1/4*alpha^5 + 1/2*alpha^3 - 1/2*alpha : -1/2*alpha^6 + 1/2*alpha^4 + 1/4 : 1),\n",
       "  1),\n",
       " ((1/2*alpha^7 - 1/4*alpha^5 - 1/2*alpha : 1/2*alpha^6 - 1/2*alpha^4 - 1/4 : 1),\n",
       "  1),\n",
       " ((alpha^5 : 1 : 0), 3),\n",
       " ((-alpha^5 : 1 : 0), 3),\n",
       " ((-1/2*alpha^7 + 1/4*alpha^5 + 1/2*alpha : 1/2*alpha^6 - 1/2*alpha^4 - 1/4 : 1),\n",
       "  1),\n",
       " ((1/4*alpha^5 - 1/2*alpha^3 + 1/2*alpha : -1/2*alpha^6 + 1/2*alpha^4 + 1/4 : 1),\n",
       "  1),\n",
       " ((0 : 0 : 1), 14)]"
      ]
     },
     "execution_count": 719,
     "metadata": {},
     "output_type": "execute_result"
    }
   ],
   "source": [
    "Points"
   ]
  },
  {
   "cell_type": "code",
   "execution_count": 720,
   "metadata": {
    "collapsed": false
   },
   "outputs": [
    {
     "data": {
      "text/plain": [
       "True"
      ]
     },
     "execution_count": 720,
     "metadata": {},
     "output_type": "execute_result"
    }
   ],
   "source": [
    "check_bezout(h1,h2, [K, e, Points])"
   ]
  },
  {
   "cell_type": "code",
   "execution_count": null,
   "metadata": {
    "collapsed": false
   },
   "outputs": [],
   "source": []
  },
  {
   "cell_type": "code",
   "execution_count": 721,
   "metadata": {
    "collapsed": false
   },
   "outputs": [
    {
     "name": "stdout",
     "output_type": "stream",
     "text": [
      "Ring morphism:\n",
      "  From: Rational Field\n",
      "  To:   Number Field in alpha with defining polynomial w^2 - w + 1\n",
      "  Defn: 1 |--> 1\n",
      "[((-1 : 1 : 0), 3), ((alpha : 1 : 0), 1), ((-alpha + 1 : 1 : 0), 1), ((0 : 0 : 1), 4)]\n"
     ]
    }
   ],
   "source": [
    "X,Y,Z = PolynomialRing(QQ,\"X,Y,Z\").gens()\n",
    "F=Z*(X^2+Y^2)+X^3+Y^3\n",
    "G=X^3+Y^3-2*X*Y*Z\n",
    "K, e, Points = Bezout(F,G)\n",
    "print e\n",
    "print Points"
   ]
  },
  {
   "cell_type": "code",
   "execution_count": 722,
   "metadata": {
    "collapsed": false
   },
   "outputs": [
    {
     "data": {
      "text/plain": [
       "True"
      ]
     },
     "execution_count": 722,
     "metadata": {},
     "output_type": "execute_result"
    }
   ],
   "source": [
    "check_bezout(F,G, [K, e, Points])"
   ]
  },
  {
   "cell_type": "code",
   "execution_count": 723,
   "metadata": {
    "collapsed": false
   },
   "outputs": [
    {
     "data": {
      "text/plain": [
       "(Number Field in alpha with defining polynomial w^8 + 3*w^4 + 9, Ring morphism:\n",
       "   From: Rational Field\n",
       "   To:   Number Field in alpha with defining polynomial w^8 + 3*w^4 + 9\n",
       "   Defn: 1 |--> 1, [((-2/9*alpha^7 - 1/3*alpha^3 : 3 : 1), 2),\n",
       "  ((-1/3*alpha^5 - alpha : 3 : 1), 2),\n",
       "  ((2/9*alpha^7 + 1/3*alpha^3 : 3 : 1), 2),\n",
       "  ((1/3*alpha^5 + alpha : 3 : 1), 2),\n",
       "  ((1 : 1 : 1), 1),\n",
       "  ((0 : 1 : 0), 8),\n",
       "  ((0 : 0 : 1), 3)])"
      ]
     },
     "execution_count": 723,
     "metadata": {},
     "output_type": "execute_result"
    }
   ],
   "source": [
    "x0,x1,x2=PolynomialRing(QQ,\"x0,x1,x2\").gens()\n",
    "A=Curve(x0^4 - x1*x2^3)\n",
    "B=Curve((x1-3*x2)^2*(x0^3-x1*x2^2))\n",
    "Bezout(A,B)"
   ]
  },
  {
   "cell_type": "code",
   "execution_count": null,
   "metadata": {
    "collapsed": false
   },
   "outputs": [],
   "source": []
  },
  {
   "cell_type": "code",
   "execution_count": 724,
   "metadata": {
    "collapsed": false
   },
   "outputs": [
    {
     "name": "stdout",
     "output_type": "stream",
     "text": [
      "[((0 : 1 : 0), 14), ((3 : 81 : 1), 2)] Ring endomorphism of Rational Field\n",
      "  Defn: 1 |--> 1\n"
     ]
    },
    {
     "data": {
      "text/plain": [
       "True"
      ]
     },
     "execution_count": 724,
     "metadata": {},
     "output_type": "execute_result"
    }
   ],
   "source": [
    "check_bezout( x0^4-x1*x2^3, (x0-3*x2)^2*x2^2 ) "
   ]
  },
  {
   "cell_type": "code",
   "execution_count": 725,
   "metadata": {
    "collapsed": false
   },
   "outputs": [
    {
     "name": "stdout",
     "output_type": "stream",
     "text": [
      "[((-1 : 0 : 1), 2), ((alpha : 1 : 0), 1), ((-alpha : 1 : 0), 1)] Ring morphism:\n",
      "  From: Rational Field\n",
      "  To:   Number Field in alpha with defining polynomial w^2 + 1\n",
      "  Defn: 1 |--> 1\n"
     ]
    },
    {
     "data": {
      "text/plain": [
       "True"
      ]
     },
     "execution_count": 725,
     "metadata": {},
     "output_type": "execute_result"
    }
   ],
   "source": [
    "check_bezout( x0^2+x1^2+x2^2+2*x0*x2, x0^2+x1^2-x2^2)"
   ]
  },
  {
   "cell_type": "code",
   "execution_count": 726,
   "metadata": {
    "collapsed": false
   },
   "outputs": [
    {
     "name": "stdout",
     "output_type": "stream",
     "text": [
      "[((alpha^2 : -alpha^3 : 1), 1), ((alpha^3 - alpha^2 + alpha - 1 : -alpha : 1), 1), ((0 : 0 : 1), 4), ((-alpha^3 : alpha^2 : 1), 1), ((1 : 1 : 1), 1), ((-alpha : alpha^3 - alpha^2 + alpha - 1 : 1), 1)] Ring morphism:\n",
      "  From: Rational Field\n",
      "  To:   Number Field in alpha with defining polynomial w^4 - w^3 + w^2 - w + 1\n",
      "  Defn: 1 |--> 1\n"
     ]
    },
    {
     "data": {
      "text/plain": [
       "True"
      ]
     },
     "execution_count": 726,
     "metadata": {},
     "output_type": "execute_result"
    }
   ],
   "source": [
    "check_bezout( x0^3-x1^2*x2, x0^2*x2-x1^3)"
   ]
  },
  {
   "cell_type": "code",
   "execution_count": 727,
   "metadata": {
    "collapsed": false
   },
   "outputs": [
    {
     "name": "stdout",
     "output_type": "stream",
     "text": [
      "[((-2/9*alpha^7 - 1/3*alpha^3 : 3 : 1), 2), ((-1/3*alpha^5 - alpha : 3 : 1), 2), ((2/9*alpha^7 + 1/3*alpha^3 : 3 : 1), 2), ((1/3*alpha^5 + alpha : 3 : 1), 2), ((0 : 1 : 0), 3), ((0 : 0 : 1), 1)] Ring morphism:\n",
      "  From: Rational Field\n",
      "  To:   Number Field in alpha with defining polynomial w^8 + 3*w^4 + 9\n",
      "  Defn: 1 |--> 1\n"
     ]
    },
    {
     "data": {
      "text/plain": [
       "True"
      ]
     },
     "execution_count": 727,
     "metadata": {},
     "output_type": "execute_result"
    }
   ],
   "source": [
    "check_bezout(x0^4-x1*x2^3, (x1-3*x2)^2*x0)"
   ]
  },
  {
   "cell_type": "code",
   "execution_count": 728,
   "metadata": {
    "collapsed": false
   },
   "outputs": [
    {
     "data": {
      "text/plain": [
       "(Finite Field of size 13, Ring endomorphism of Finite Field of size 13\n",
       "   Defn: 1 |--> 1, [((6 : 6 : 1), 169)])"
      ]
     },
     "execution_count": 728,
     "metadata": {},
     "output_type": "execute_result"
    }
   ],
   "source": [
    "F=GF(13)\n",
    "x_0,x_1,x_2=PolynomialRing(F,'x_0,x_1,x_2').gens()\n",
    "F = x_0^13+x_1^13+x_2^13\n",
    "G = x_0^13+12*x_1^13\n",
    "K,e,points = Bezout( F, G)\n",
    "K, e, points"
   ]
  },
  {
   "cell_type": "code",
   "execution_count": 729,
   "metadata": {
    "collapsed": false
   },
   "outputs": [
    {
     "name": "stdout",
     "output_type": "stream",
     "text": [
      "[((6 : 6 : 1), 169)] Ring endomorphism of Finite Field of size 13\n",
      "  Defn: 1 |--> 1\n"
     ]
    },
    {
     "data": {
      "text/plain": [
       "True"
      ]
     },
     "execution_count": 729,
     "metadata": {},
     "output_type": "execute_result"
    }
   ],
   "source": [
    "check_bezout(F,G)"
   ]
  },
  {
   "cell_type": "markdown",
   "metadata": {},
   "source": [
    "*Hard example*"
   ]
  },
  {
   "cell_type": "code",
   "execution_count": 730,
   "metadata": {
    "collapsed": false
   },
   "outputs": [],
   "source": [
    "S=PolynomialRing(QQ,\"x0,x1,x2\")\n",
    "x0,x1,x2=S.gens()\n",
    "F=x0^4+x1^4+2*x0^2*x1^2+3*x0^2*x1*x2-x1^3*x2 \n",
    "G=x1^2*x2-x0^3\n",
    "#Bezout(F,G)"
   ]
  },
  {
   "cell_type": "code",
   "execution_count": null,
   "metadata": {
    "collapsed": true
   },
   "outputs": [],
   "source": []
  },
  {
   "cell_type": "code",
   "execution_count": null,
   "metadata": {
    "collapsed": true
   },
   "outputs": [],
   "source": []
  },
  {
   "cell_type": "code",
   "execution_count": null,
   "metadata": {
    "collapsed": true
   },
   "outputs": [],
   "source": []
  },
  {
   "cell_type": "code",
   "execution_count": null,
   "metadata": {
    "collapsed": true
   },
   "outputs": [],
   "source": []
  },
  {
   "cell_type": "code",
   "execution_count": null,
   "metadata": {
    "collapsed": true
   },
   "outputs": [],
   "source": []
  }
 ],
 "metadata": {
  "kernelspec": {
   "display_name": "SageMath 7.1",
   "language": "",
   "name": "sagemath"
  },
  "language_info": {
   "codemirror_mode": {
    "name": "ipython",
    "version": 2
   },
   "file_extension": ".py",
   "mimetype": "text/x-python",
   "name": "python",
   "nbconvert_exporter": "python",
   "pygments_lexer": "ipython2",
   "version": "2.7.10"
  }
 },
 "nbformat": 4,
 "nbformat_minor": 0
}
