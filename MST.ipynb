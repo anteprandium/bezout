{
 "cells": [
  {
   "cell_type": "code",
   "execution_count": 49,
   "metadata": {
    "collapsed": false
   },
   "outputs": [],
   "source": [
    "%attach bezout.py"
   ]
  },
  {
   "cell_type": "code",
   "execution_count": 50,
   "metadata": {
    "collapsed": false
   },
   "outputs": [
    {
     "data": {
      "text/plain": [
       "(Number Field in alpha with defining polynomial Z^2 + 1,\n",
       " [(X + (-alpha)*Y, 1), (X + (alpha)*Y, 1)])"
      ]
     },
     "execution_count": 50,
     "metadata": {},
     "output_type": "execute_result"
    }
   ],
   "source": [
    "X,Y=PolynomialRing(QQ, \"X,Y\").gens()\n",
    "f=X^2+Y^2\n",
    "split_into_forms(f)\n"
   ]
  },
  {
   "cell_type": "code",
   "execution_count": 51,
   "metadata": {
    "collapsed": false
   },
   "outputs": [
    {
     "data": {
      "text/plain": [
       "Projective Curve over Rational Field defined by x0^3 - x1^2*x2"
      ]
     },
     "execution_count": 51,
     "metadata": {},
     "output_type": "execute_result"
    }
   ],
   "source": [
    "    >>> X,Y=AffineSpace(2, QQ).gens()\n",
    "    >>> f=Curve(X^3-Y^2)\n",
    "    >>> projective_closure(f)"
   ]
  },
  {
   "cell_type": "code",
   "execution_count": 52,
   "metadata": {
    "collapsed": true
   },
   "outputs": [],
   "source": [
    "F=projective_closure(f)"
   ]
  },
  {
   "cell_type": "code",
   "execution_count": 53,
   "metadata": {
    "collapsed": false
   },
   "outputs": [
    {
     "data": {
      "text/plain": [
       "Projective Space of dimension 2 over Rational Field"
      ]
     },
     "execution_count": 53,
     "metadata": {},
     "output_type": "execute_result"
    }
   ],
   "source": [
    "F.ambient_space()"
   ]
  },
  {
   "cell_type": "code",
   "execution_count": 112,
   "metadata": {
    "collapsed": false
   },
   "outputs": [],
   "source": [
    "x0,x1,x2=ProjectiveSpace(2, QQ, \"x0,x1,x2\").gens()\n",
    "A=Curve(x0^4-x1*x2^3)\n",
    "B=Curve((x1-3*x2)^2*(x0^3-x1*x2^2))\n",
    "h=Bezout(A,B)"
   ]
  },
  {
   "cell_type": "code",
   "execution_count": 113,
   "metadata": {
    "collapsed": false
   },
   "outputs": [
    {
     "data": {
      "text/plain": [
       "([[1, x0^4 - x1*x2^3, x1^2 - 6*x1*x2 + 9*x2^2],\n",
       "  [1, x0^3 - x1*x2^2, x1*x2^2],\n",
       "  [1, x0 - x2, -x1*x2^2 + x2^3]],\n",
       " x0,\n",
       " (x1, x2))"
      ]
     },
     "execution_count": 113,
     "metadata": {},
     "output_type": "execute_result"
    }
   ],
   "source": [
    "h"
   ]
  },
  {
   "cell_type": "code",
   "execution_count": 167,
   "metadata": {
    "collapsed": true
   },
   "outputs": [],
   "source": [
    "%attach bezout.py"
   ]
  },
  {
   "cell_type": "code",
   "execution_count": 168,
   "metadata": {
    "collapsed": false
   },
   "outputs": [
    {
     "data": {
      "text/plain": [
       "(Number Field in alpha with defining polynomial Z^8 - 2*Z^7 + 2*Z^6 - 2*Z^5 + 7*Z^4 - 10*Z^3 + 8*Z^2 - 4*Z + 1,\n",
       " [[2,\n",
       "   x0 + (19/11*alpha^7 - 2*alpha^6 + 16/11*alpha^5 - 17/11*alpha^4 + 10*alpha^3 - 91/11*alpha^2 + 47/11*alpha - 4/11)*x2,\n",
       "   x1 - 3*x2],\n",
       "  [2,\n",
       "   x0 + (25/11*alpha^7 - 4*alpha^6 + 39/11*alpha^5 - 38/11*alpha^4 + 15*alpha^3 - 206/11*alpha^2 + 140/11*alpha - 51/11)*x2,\n",
       "   x1 - 3*x2],\n",
       "  [2,\n",
       "   x0 + (-25/11*alpha^7 + 4*alpha^6 - 39/11*alpha^5 + 38/11*alpha^4 - 15*alpha^3 + 206/11*alpha^2 - 140/11*alpha + 51/11)*x2,\n",
       "   x1 - 3*x2],\n",
       "  [2,\n",
       "   x0 + (-19/11*alpha^7 + 2*alpha^6 - 16/11*alpha^5 + 17/11*alpha^4 - 10*alpha^3 + 91/11*alpha^2 - 47/11*alpha + 4/11)*x2,\n",
       "   x1 - 3*x2],\n",
       "  [3, x0, x1],\n",
       "  [6, x0, x2],\n",
       "  [1, x0 - x2, x1 - x2],\n",
       "  [2, x0, x2]])"
      ]
     },
     "execution_count": 168,
     "metadata": {},
     "output_type": "execute_result"
    }
   ],
   "source": [
    "x0,x1,x2=PolynomialRing(QQ,\"x0,x1,x2\").gens()\n",
    "A=Curve(x0^4 - x1*x2^3)\n",
    "B=Curve((x1-3*x2)^2*(x0^3-x1*x2^2))\n",
    "Bezout(A,B)"
   ]
  },
  {
   "cell_type": "code",
   "execution_count": 148,
   "metadata": {
    "collapsed": false
   },
   "outputs": [
    {
     "data": {
      "text/plain": [
       "(Rational Field,\n",
       " [[2, x0^4 - x1*x2^3, x1 - 3*x2],\n",
       "  [1, x0^3 - x1*x2^2, x1],\n",
       "  [2, x0^3 - x1*x2^2, x2],\n",
       "  [1, x0 - x2, x1 - x2],\n",
       "  [2, x0 - x2, x2]])"
      ]
     },
     "execution_count": 148,
     "metadata": {},
     "output_type": "execute_result"
    }
   ],
   "source": [
    "Z=Bezout(A,B)\n",
    "Z"
   ]
  },
  {
   "cell_type": "code",
   "execution_count": 157,
   "metadata": {
    "collapsed": false
   },
   "outputs": [
    {
     "data": {
      "text/plain": [
       "x1 - 3*x2"
      ]
     },
     "execution_count": 157,
     "metadata": {},
     "output_type": "execute_result"
    }
   ],
   "source": [
    "f=Z[1][0][2]\n",
    "f"
   ]
  },
  {
   "cell_type": "code",
   "execution_count": 158,
   "metadata": {
    "collapsed": false
   },
   "outputs": [
    {
     "data": {
      "text/plain": [
       "1"
      ]
     },
     "execution_count": 158,
     "metadata": {},
     "output_type": "execute_result"
    }
   ],
   "source": [
    "f.monomial_coefficient(x1)"
   ]
  },
  {
   "cell_type": "code",
   "execution_count": null,
   "metadata": {
    "collapsed": true
   },
   "outputs": [],
   "source": []
  }
 ],
 "metadata": {
  "kernelspec": {
   "display_name": "Sage 6.6",
   "language": "",
   "name": "sage_6_6"
  },
  "language_info": {
   "codemirror_mode": {
    "name": "ipython",
    "version": 2
   },
   "file_extension": ".py",
   "mimetype": "text/x-python",
   "name": "python",
   "nbconvert_exporter": "python",
   "pygments_lexer": "ipython2",
   "version": "2.7.8"
  }
 },
 "nbformat": 4,
 "nbformat_minor": 0
}
