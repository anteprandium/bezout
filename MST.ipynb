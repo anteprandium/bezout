{
 "cells": [
  {
   "cell_type": "code",
   "execution_count": 49,
   "metadata": {
    "collapsed": false
   },
   "outputs": [],
   "source": [
    "%attach bezout.py"
   ]
  },
  {
   "cell_type": "code",
   "execution_count": 50,
   "metadata": {
    "collapsed": false
   },
   "outputs": [
    {
     "data": {
      "text/plain": [
       "(Number Field in alpha with defining polynomial Z^2 + 1,\n",
       " [(X + (-alpha)*Y, 1), (X + (alpha)*Y, 1)])"
      ]
     },
     "execution_count": 50,
     "metadata": {},
     "output_type": "execute_result"
    }
   ],
   "source": [
    "X,Y=PolynomialRing(QQ, \"X,Y\").gens()\n",
    "f=X^2+Y^2\n",
    "split_into_forms(f)\n"
   ]
  },
  {
   "cell_type": "code",
   "execution_count": 51,
   "metadata": {
    "collapsed": false
   },
   "outputs": [
    {
     "data": {
      "text/plain": [
       "Projective Curve over Rational Field defined by x0^3 - x1^2*x2"
      ]
     },
     "execution_count": 51,
     "metadata": {},
     "output_type": "execute_result"
    }
   ],
   "source": [
    "    >>> X,Y=AffineSpace(2, QQ).gens()\n",
    "    >>> f=Curve(X^3-Y^2)\n",
    "    >>> projective_closure(f)"
   ]
  },
  {
   "cell_type": "code",
   "execution_count": 52,
   "metadata": {
    "collapsed": true
   },
   "outputs": [],
   "source": [
    "F=projective_closure(f)"
   ]
  },
  {
   "cell_type": "code",
   "execution_count": 53,
   "metadata": {
    "collapsed": false
   },
   "outputs": [
    {
     "data": {
      "text/plain": [
       "Projective Space of dimension 2 over Rational Field"
      ]
     },
     "execution_count": 53,
     "metadata": {},
     "output_type": "execute_result"
    }
   ],
   "source": [
    "F.ambient_space()"
   ]
  },
  {
   "cell_type": "code",
   "execution_count": 112,
   "metadata": {
    "collapsed": false
   },
   "outputs": [],
   "source": [
    "x0,x1,x2=ProjectiveSpace(2, QQ, \"x0,x1,x2\").gens()\n",
    "A=Curve(x0^4-x1*x2^3)\n",
    "B=Curve((x1-3*x2)^2*(x0^3-x1*x2^2))\n",
    "h=Bezout(A,B)"
   ]
  },
  {
   "cell_type": "code",
   "execution_count": 113,
   "metadata": {
    "collapsed": false
   },
   "outputs": [
    {
     "data": {
      "text/plain": [
       "([[1, x0^4 - x1*x2^3, x1^2 - 6*x1*x2 + 9*x2^2],\n",
       "  [1, x0^3 - x1*x2^2, x1*x2^2],\n",
       "  [1, x0 - x2, -x1*x2^2 + x2^3]],\n",
       " x0,\n",
       " (x1, x2))"
      ]
     },
     "execution_count": 113,
     "metadata": {},
     "output_type": "execute_result"
    }
   ],
   "source": [
    "h"
   ]
  },
  {
   "cell_type": "code",
   "execution_count": 136,
   "metadata": {
    "collapsed": true
   },
   "outputs": [],
   "source": [
    "%attach bezout.py"
   ]
  },
  {
   "cell_type": "code",
   "execution_count": 137,
   "metadata": {
    "collapsed": false
   },
   "outputs": [
    {
     "data": {
      "text/plain": [
       "(Rational Field,\n",
       " [[2, x0^4 - x1*x2^3, x1 - 3*x2],\n",
       "  [1, x0^3 - x1*x2^2, x1],\n",
       "  [2, x0^3 - x1*x2^2, x2],\n",
       "  [1, x0 - x2, x1 - x2],\n",
       "  [2, x0 - x2, x2]])"
      ]
     },
     "execution_count": 137,
     "metadata": {},
     "output_type": "execute_result"
    }
   ],
   "source": [
    "x0,x1,x2=PolynomialRing(QQ,\"x0,x1,x2\").gens()\n",
    "A=Curve(x0^4 - x1*x2^3)\n",
    "B=Curve((x1-3*x2)^2*(x0^3-x1*x2^2))\n",
    "Bezout(A,B)"
   ]
  },
  {
   "cell_type": "code",
   "execution_count": 138,
   "metadata": {
    "collapsed": false
   },
   "outputs": [
    {
     "data": {
      "text/plain": [
       "(Rational Field,\n",
       " [[2, x0^4 - x1*x2^3, x1 - 3*x2],\n",
       "  [1, x0^3 - x1*x2^2, x1],\n",
       "  [2, x0^3 - x1*x2^2, x2],\n",
       "  [1, x0 - x2, x1 - x2],\n",
       "  [2, x0 - x2, x2]])"
      ]
     },
     "execution_count": 138,
     "metadata": {},
     "output_type": "execute_result"
    }
   ],
   "source": [
    "Z=Bezout(A,B)\n",
    "Z"
   ]
  },
  {
   "cell_type": "code",
   "execution_count": 142,
   "metadata": {
    "collapsed": false
   },
   "outputs": [
    {
     "data": {
      "text/plain": [
       "Multivariate Polynomial Ring in x0, x1, x2 over Rational Field"
      ]
     },
     "execution_count": 142,
     "metadata": {},
     "output_type": "execute_result"
    }
   ],
   "source": [
    "Z[1][0][1].parent()"
   ]
  },
  {
   "cell_type": "code",
   "execution_count": 135,
   "metadata": {
    "collapsed": false
   },
   "outputs": [
    {
     "name": "stdout",
     "output_type": "stream",
     "text": [
      "(x1 - 3*x2, 2)\n"
     ]
    }
   ],
   "source": [
    "for f in Z[0][0][2].change_ring(K).factor():\n",
    "    print f"
   ]
  },
  {
   "cell_type": "code",
   "execution_count": null,
   "metadata": {
    "collapsed": true
   },
   "outputs": [],
   "source": []
  }
 ],
 "metadata": {
  "kernelspec": {
   "display_name": "Sage 6.6",
   "language": "",
   "name": "sage_6_6"
  },
  "language_info": {
   "codemirror_mode": {
    "name": "ipython",
    "version": 2
   },
   "file_extension": ".py",
   "mimetype": "text/x-python",
   "name": "python",
   "nbconvert_exporter": "python",
   "pygments_lexer": "ipython2",
   "version": "2.7.8"
  }
 },
 "nbformat": 4,
 "nbformat_minor": 0
}
