{
 "cells": [
  {
   "cell_type": "code",
   "execution_count": 3,
   "metadata": {
    "collapsed": false
   },
   "outputs": [],
   "source": [
    "%attach bezout.py"
   ]
  },
  {
   "cell_type": "markdown",
   "metadata": {},
   "source": [
    "**Example 1**"
   ]
  },
  {
   "cell_type": "code",
   "execution_count": 4,
   "metadata": {
    "collapsed": false
   },
   "outputs": [
    {
     "data": {
      "text/plain": [
       "(Number Field in alpha with defining polynomial Z^8 - 2*Z^7 + 2*Z^6 - 2*Z^5 + 7*Z^4 - 10*Z^3 + 8*Z^2 - 4*Z + 1,\n",
       " [((25/11*alpha^7 - 4*alpha^6 + 39/11*alpha^5 - 38/11*alpha^4 + 15*alpha^3 - 206/11*alpha^2 + 140/11*alpha - 51/11 : 3 : 1),\n",
       "   2),\n",
       "  ((-19/11*alpha^7 + 2*alpha^6 - 16/11*alpha^5 + 17/11*alpha^4 - 10*alpha^3 + 91/11*alpha^2 - 47/11*alpha + 4/11 : 3 : 1),\n",
       "   2),\n",
       "  ((19/11*alpha^7 - 2*alpha^6 + 16/11*alpha^5 - 17/11*alpha^4 + 10*alpha^3 - 91/11*alpha^2 + 47/11*alpha - 4/11 : 3 : 1),\n",
       "   2),\n",
       "  ((1 : 1 : 1), 1),\n",
       "  ((0 : 0 : 1), 3),\n",
       "  ((0 : 1 : 0), 8),\n",
       "  ((-25/11*alpha^7 + 4*alpha^6 - 39/11*alpha^5 + 38/11*alpha^4 - 15*alpha^3 + 206/11*alpha^2 - 140/11*alpha + 51/11 : 3 : 1),\n",
       "   2)])"
      ]
     },
     "execution_count": 4,
     "metadata": {},
     "output_type": "execute_result"
    }
   ],
   "source": [
    "x0,x1,x2=PolynomialRing(QQ,\"x0,x1,x2\").gens()\n",
    "A=Curve(x0^4 - x1*x2^3)\n",
    "B=Curve((x1-3*x2)^2*(x0^3-x1*x2^2))\n",
    "Bezout(A,B)"
   ]
  },
  {
   "cell_type": "markdown",
   "metadata": {},
   "source": [
    "**Ejemplo 2**\n"
   ]
  },
  {
   "cell_type": "code",
   "execution_count": 5,
   "metadata": {
    "collapsed": false
   },
   "outputs": [
    {
     "data": {
      "text/plain": [
       "(Rational Field, [((0 : 1 : 0), 14), ((3/2 : 81 : 1), 2)])"
      ]
     },
     "execution_count": 5,
     "metadata": {},
     "output_type": "execute_result"
    }
   ],
   "source": [
    "Bezout( Curve(x0^4-x1*x2^3), Curve((x0-3*x2)^2*x2^2 ) )"
   ]
  },
  {
   "cell_type": "markdown",
   "metadata": {},
   "source": [
    "**Ejemplo 3**"
   ]
  },
  {
   "cell_type": "code",
   "execution_count": 6,
   "metadata": {
    "collapsed": false
   },
   "outputs": [
    {
     "data": {
      "text/plain": [
       "(Number Field in alpha with defining polynomial Z^2 + 1,\n",
       " [((-1 : 0 : 1), 2), ((alpha : 1 : 0), 1), ((-alpha : 1 : 0), 1)])"
      ]
     },
     "execution_count": 6,
     "metadata": {},
     "output_type": "execute_result"
    }
   ],
   "source": [
    "Bezout( x0^2+x1^2+x2^2+2*x0*x2, x0^2+x1^2-x2^2)"
   ]
  },
  {
   "cell_type": "markdown",
   "metadata": {},
   "source": [
    "**Ejemplo 4**"
   ]
  },
  {
   "cell_type": "code",
   "execution_count": 7,
   "metadata": {
    "collapsed": false
   },
   "outputs": [
    {
     "data": {
      "text/plain": [
       "(Number Field in alpha with defining polynomial Z^4 - Z^3 + Z^2 - Z + 1,\n",
       " [((-alpha^3 + alpha^2 - alpha + 1 : -alpha : 1), 1),\n",
       "  ((-alpha^2 : -alpha^3 : 1), 1),\n",
       "  ((alpha : alpha^3 - alpha^2 + alpha - 1 : 1), 1),\n",
       "  ((-1 : 1 : 1), 1),\n",
       "  ((alpha^3 : alpha^2 : 1), 1),\n",
       "  ((0 : 0 : 1), 4)])"
      ]
     },
     "execution_count": 7,
     "metadata": {},
     "output_type": "execute_result"
    }
   ],
   "source": [
    "Bezout( x0^3-x1^2*x2, x0^2*x2-x1^3)"
   ]
  },
  {
   "cell_type": "markdown",
   "metadata": {},
   "source": [
    "**Ejemplo 6**"
   ]
  },
  {
   "cell_type": "code",
   "execution_count": 8,
   "metadata": {
    "collapsed": false
   },
   "outputs": [
    {
     "data": {
      "text/plain": [
       "(Number Field in alpha with defining polynomial Z^8 - 2*Z^7 + 2*Z^6 - 2*Z^5 + 7*Z^4 - 10*Z^3 + 8*Z^2 - 4*Z + 1,\n",
       " [((25/11*alpha^7 - 4*alpha^6 + 39/11*alpha^5 - 38/11*alpha^4 + 15*alpha^3 - 206/11*alpha^2 + 140/11*alpha - 51/11 : 3 : 1),\n",
       "   2),\n",
       "  ((-19/11*alpha^7 + 2*alpha^6 - 16/11*alpha^5 + 17/11*alpha^4 - 10*alpha^3 + 91/11*alpha^2 - 47/11*alpha + 4/11 : 3 : 1),\n",
       "   2),\n",
       "  ((19/11*alpha^7 - 2*alpha^6 + 16/11*alpha^5 - 17/11*alpha^4 + 10*alpha^3 - 91/11*alpha^2 + 47/11*alpha - 4/11 : 3 : 1),\n",
       "   2),\n",
       "  ((0 : 0 : 1), 1),\n",
       "  ((0 : 1 : 0), 3),\n",
       "  ((-25/11*alpha^7 + 4*alpha^6 - 39/11*alpha^5 + 38/11*alpha^4 - 15*alpha^3 + 206/11*alpha^2 - 140/11*alpha + 51/11 : 3 : 1),\n",
       "   2)])"
      ]
     },
     "execution_count": 8,
     "metadata": {},
     "output_type": "execute_result"
    }
   ],
   "source": [
    "Bezout(x0^4-x1*x2^3, (x1-3*x2)^2*x0)"
   ]
  },
  {
   "cell_type": "markdown",
   "metadata": {},
   "source": [
    "**Ejemplo 7**"
   ]
  },
  {
   "cell_type": "code",
   "execution_count": 9,
   "metadata": {
    "collapsed": true
   },
   "outputs": [],
   "source": [
    "# Slow\n",
    "#Bezout( x0^4+x1^4+2*x0^2*x1^2+3*x0^2*x1*x2-x1^3*x2, x1^2*x2-x0^3)"
   ]
  },
  {
   "cell_type": "markdown",
   "metadata": {
    "collapsed": true
   },
   "source": [
    "**Ejemplo 9**"
   ]
  },
  {
   "cell_type": "code",
   "execution_count": 10,
   "metadata": {
    "collapsed": false
   },
   "outputs": [
    {
     "data": {
      "text/plain": [
       "(Finite Field of size 13, [((7 : 6 : 1), 169)])"
      ]
     },
     "execution_count": 10,
     "metadata": {},
     "output_type": "execute_result"
    }
   ],
   "source": [
    "F=GF(13)\n",
    "x_0,x_1,x_2=PolynomialRing(F,'x_0,x_1,x_2').gens()\n",
    "Bezout( x_0^13+x_1^13+x_2^13, x_0^13+12*x_1^13)"
   ]
  },
  {
   "cell_type": "code",
   "execution_count": null,
   "metadata": {
    "collapsed": true
   },
   "outputs": [],
   "source": []
  }
 ],
 "metadata": {
  "kernelspec": {
   "display_name": "Sage 6.6",
   "language": "",
   "name": "sage_6_6"
  },
  "language_info": {
   "codemirror_mode": {
    "name": "ipython",
    "version": 2
   },
   "file_extension": ".py",
   "mimetype": "text/x-python",
   "name": "python",
   "nbconvert_exporter": "python",
   "pygments_lexer": "ipython2",
   "version": "2.7.8"
  }
 },
 "nbformat": 4,
 "nbformat_minor": 0
}
